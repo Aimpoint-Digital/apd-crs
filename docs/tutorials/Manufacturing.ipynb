{
 "cells": [
  {
   "cell_type": "markdown",
   "metadata": {},
   "source": [
    "# Manufacturing\n",
    "## Time to Failure Since Repair"
   ]
  },
  {
   "cell_type": "markdown",
   "metadata": {},
   "source": [
    "In manufacturing machine failure means less production, potentially unforeseen expenses, and consequently less revenue. Hence as a manufacturer we want to find ways to predict and reduce machine failure. This can be achieved by estimating *time to failure since repair*. \n",
    "\n",
    "Imagine a car. Throughout its lifetime it undergoes a series of repairs. Each time it undergoes a repair it becomes censored, and we restart the clock. At some point in this cycle the car may finally break (face the event). \n",
    "\n",
    "TIME = 0 ###### TIME = 75 CLUTCH CHANGE (BECOMES CENSORED)\\\n",
    "TIME = 0 ############ TIME = 150 TRANSMISSION CHANGE (BECOMES CENSORED)\\\n",
    "TIME = 0 #################### TIME = 200 MOTOR CHANGE (BECOMES CENSORED)\\\n",
    "TIME = 0 ########## TIME = 100 BEYOND REPAIR (EVENT REACHED)\n",
    "\n",
    "Some cars don't break after, e.g. 10 years, and you get a new one (they are \"cured\"). \n",
    "\n",
    "We can estimate time to failure since repair using apd-crs, incorporating the idea that some machines are resilient and don’t fail before they’re replaced.\n"
   ]
  },
  {
   "cell_type": "markdown",
   "metadata": {},
   "source": [
    "## Imports "
   ]
  },
  {
   "cell_type": "code",
   "execution_count": 71,
   "metadata": {},
   "outputs": [],
   "source": [
    "import pandas as pd\n",
    "import numpy as np\n",
    "from sklearn.preprocessing import StandardScaler\n",
    "from sksurv.preprocessing import OneHotEncoder\n",
    "from apd_crs.survival_analysis import SurvivalAnalysis\n",
    "from apd_crs.datasets import load_manufacturing\n",
    "from sklearn.preprocessing import StandardScaler\n",
    "from sklearn.model_selection import train_test_split"
   ]
  },
  {
   "cell_type": "markdown",
   "metadata": {},
   "source": [
    "## Using the SurvivalAnalysis Class: Get Labels"
   ]
  },
  {
   "cell_type": "code",
   "execution_count": 72,
   "metadata": {},
   "outputs": [],
   "source": [
    "# Instantiate the SurvivalAnalysis class and get labels\n",
    "model = SurvivalAnalysis()\n",
    "cure_label = model.get_cure_label()\n",
    "noncure_label = model.get_non_cure_label()\n",
    "censor_label = model.get_censor_label()\n"
   ]
  },
  {
   "cell_type": "markdown",
   "metadata": {},
   "source": [
    "## The Manufacturing Dataset\n",
    "\n",
    "- For illustration we use the following data set borrowed from the PySurvival library. \n",
    "- A manufacturing plant may have several machines of a certain type. \n",
    "- Each machine instance can undergo many repairs over the course of its tenure. \n",
    "- This would lead to a multitude of censored observations for time since repair, with each specific machine likely contributing to several observations, since it may be repaired more than once during its tenure.\n",
    "- Each machine has associated covariates like pressure index, moisture index, the team working with it, etc.\n",
    "- After preprocessing the data, we would obtain a table like the one below.\n"
   ]
  },
  {
   "cell_type": "markdown",
   "metadata": {},
   "source": [
    "We investigate on a dataset from the PySurvival library https://square.github.io/pysurvival/tutorials/maintenance.html"
   ]
  },
  {
   "cell_type": "code",
   "execution_count": 73,
   "metadata": {},
   "outputs": [],
   "source": [
    "dataset = load_manufacturing()  # load the data\n"
   ]
  },
  {
   "cell_type": "code",
   "execution_count": 74,
   "metadata": {},
   "outputs": [],
   "source": [
    "data, labels, times = dataset.data, dataset.target, dataset.target_times\n",
    "# Load the covariates, labels (censored or not), and times\n"
   ]
  },
  {
   "cell_type": "markdown",
   "metadata": {},
   "source": [
    "## Data Preprocessing\n"
   ]
  },
  {
   "cell_type": "code",
   "execution_count": 75,
   "metadata": {},
   "outputs": [],
   "source": [
    "# Convert object columns to categorical so we can us sksurv one-hot encoder\n",
    "for col in [\"team\", \"provider\"]:\n",
    "    data[col] = data[col].astype(\"category\")\n"
   ]
  },
  {
   "cell_type": "code",
   "execution_count": 76,
   "metadata": {},
   "outputs": [],
   "source": [
    "# Test train split: To evaluate test performance we split the data into training and testing data;\n",
    "# test_size is percentage going to test data\n",
    "\n",
    "(\n",
    "    training_data,\n",
    "    test_data,\n",
    "    training_labels,\n",
    "    test_labels,\n",
    "    training_times,\n",
    "    test_times,\n",
    ") = train_test_split(data, labels, times, test_size=0.33)\n"
   ]
  },
  {
   "cell_type": "code",
   "execution_count": 77,
   "metadata": {},
   "outputs": [],
   "source": [
    "# Perform one-hot encoding\n",
    "from sksurv.preprocessing import OneHotEncoder\n",
    "\n",
    "ohc = OneHotEncoder()\n",
    "training_data = ohc.fit_transform(training_data)\n",
    "test_data = ohc.transform(test_data)\n"
   ]
  },
  {
   "cell_type": "code",
   "execution_count": 78,
   "metadata": {},
   "outputs": [],
   "source": [
    "#Record features post one-hot encoding\n",
    "\n",
    "features = training_data.columns"
   ]
  },
  {
   "cell_type": "code",
   "execution_count": 79,
   "metadata": {},
   "outputs": [],
   "source": [
    "# Scale covariates: Baseline Hazard estimation is parametric so scaling helps with convergence\n",
    "\n",
    "scaler = StandardScaler()\n",
    "training_data = scaler.fit_transform(training_data)\n",
    "test_data = scaler.transform(test_data)\n"
   ]
  },
  {
   "cell_type": "code",
   "execution_count": 80,
   "metadata": {},
   "outputs": [],
   "source": [
    "# Scale times: Baseline Hazard estimation is parametric so scaling helps with convergence\n",
    "\n",
    "training_times = training_times / training_times.max()\n",
    "test_times = test_times / training_times.max()\n"
   ]
  },
  {
   "cell_type": "markdown",
   "metadata": {},
   "source": [
    "## Using the SurvivalAnalysis Class: Model Fitting"
   ]
  },
  {
   "cell_type": "code",
   "execution_count": 81,
   "metadata": {},
   "outputs": [],
   "source": [
    "# Instantiate the SurvivalAnalysis class\n",
    "model = SurvivalAnalysis(\"clustering\")\n",
    "#'clustering' means we will use clustering to impute cure labels for censored data, followed by\n",
    "# estimating cure probability with logistic regression\n"
   ]
  },
  {
   "cell_type": "code",
   "execution_count": 82,
   "metadata": {},
   "outputs": [
    {
     "data": {
      "text/plain": [
       "<apd_crs.survival_analysis.SurvivalAnalysis at 0x7f8bd41f3ee0>"
      ]
     },
     "execution_count": 82,
     "metadata": {},
     "output_type": "execute_result"
    }
   ],
   "source": [
    "model.survival_fit(\n",
    "    training_data, training_labels, training_times, surv_reg_term=0.25, pu_kmeans_init=20\n",
    ")\n",
    "# surv_reg_term controls regularization for the fitting of lifetime parameters\n",
    "# pu_kmeans_init is number of Kmeans initializations to try since the estimator is clustering here\n"
   ]
  },
  {
   "cell_type": "markdown",
   "metadata": {},
   "source": [
    "## Evaluating Model Performance"
   ]
  },
  {
   "cell_type": "markdown",
   "metadata": {},
   "source": [
    "### Danger \n",
    "\n",
    "The Danger associated with an individual is a measure of the individual's risk \n",
    "\n",
    "of facing the event. It can take on any real number.\n",
    "\n",
    "The higher the Danger, the riskier the individual. E.g. an individual with \n",
    "\n",
    "Danger -1.2 is less at risk than one with Danger 1.0.\n",
    "\n",
    "More precisely, the danger associated with an individual having covariate vector $x$ is\n",
    "\n",
    "$\\mbox{Danger}(x) = w_1 (\\gamma\\cdot x )+ w_2 \\log(1-\\pi(x))$ \n",
    "\n",
    "where $w_1, w_2$ are weights in the unit interval $[0,1]$ which sum to 1,\n",
    "\n",
    "$\\pi(x)$ is the probability of cure, and $\\gamma$ is the parameter vector associated with \n",
    "\n",
    "the Hazard of the susceptible (non-cured) population. \n",
    "\n",
    "Optimal weights can be chosen through cross validation.\n",
    "\n",
    "### Concordance Index (C-Index)\n",
    "\n",
    "Two individuals are comparable if one experiences the event before the other. \n",
    "\n",
    "A pair of individuals is concordant if the one which \"died\" first has a higher danger.\n",
    "\n",
    "C-Index = ratio of concordant pairs to comparable pairs.\n",
    "\n",
    "Clearly C-index is in $[0,1]$ and the higher the better. \n",
    "\n",
    "Random guessing $\\Rightarrow$ C-index = 0.5"
   ]
  },
  {
   "cell_type": "markdown",
   "metadata": {},
   "source": [
    "### Danger Calculation"
   ]
  },
  {
   "cell_type": "code",
   "execution_count": 83,
   "metadata": {},
   "outputs": [],
   "source": [
    "train_danger = np.dot(training_data, model.gamma_) + np.log(\n",
    "    model.predict_cure_proba(training_data, training_labels)[:, 1]\n",
    ")\n"
   ]
  },
  {
   "cell_type": "code",
   "execution_count": 84,
   "metadata": {},
   "outputs": [],
   "source": [
    "test_danger = np.dot(test_data, model.gamma_) + np.log(\n",
    "    model.predict_cure_proba(test_data, test_labels)[:, 1]\n",
    ")\n"
   ]
  },
  {
   "cell_type": "markdown",
   "metadata": {},
   "source": [
    "### C-Index Calculation"
   ]
  },
  {
   "cell_type": "code",
   "execution_count": 85,
   "metadata": {},
   "outputs": [
    {
     "name": "stdout",
     "output_type": "stream",
     "text": [
      "c-index score on train set is 0.9119870667110456\n"
     ]
    }
   ],
   "source": [
    "train_score = model.cindex(training_times, training_labels, train_danger)\n",
    "\n",
    "print(f\"c-index score on train set is {train_score}\")\n"
   ]
  },
  {
   "cell_type": "code",
   "execution_count": 86,
   "metadata": {},
   "outputs": [
    {
     "name": "stdout",
     "output_type": "stream",
     "text": [
      "c-index score on test set is 0.9124832867387869\n"
     ]
    }
   ],
   "source": [
    "test_score = model.cindex(test_times, test_labels, test_danger)\n",
    "\n",
    "print(f\"c-index score on test set is {test_score}\")\n"
   ]
  },
  {
   "cell_type": "markdown",
   "metadata": {},
   "source": [
    "## Overall Risk Factors"
   ]
  },
  {
   "cell_type": "code",
   "execution_count": 87,
   "metadata": {},
   "outputs": [
    {
     "data": {
      "text/plain": [
       "<AxesSubplot:>"
      ]
     },
     "execution_count": 87,
     "metadata": {},
     "output_type": "execute_result"
    },
    {
     "data": {
      "image/png": "[encoded data removed]",
      "text/plain": [
       "<Figure size 432x288 with 1 Axes>"
      ]
     },
     "metadata": {
      "needs_background": "light"
     },
     "output_type": "display_data"
    }
   ],
   "source": [
    "# By plotting the coefficients coming from the proportional Hazard, we can measure\n",
    "# overall covariate contributions\n",
    "feats = {col: model.gamma_[i] for (i, col) in enumerate(features)}\n",
    "feats = pd.Series(feats)\n",
    "top_ten_feats = feats.sort_values(ascending=False)[0:10]\n",
    "top_ten_feats.plot.bar()\n"
   ]
  },
  {
   "cell_type": "markdown",
   "metadata": {},
   "source": [
    "## Individual Predictions"
   ]
  },
  {
   "cell_type": "code",
   "execution_count": 88,
   "metadata": {},
   "outputs": [],
   "source": [
    "# Overall survivor function:\n",
    "\n",
    "# We can plot the overall survival function for e.g. the first five individuals in the test set.\n",
    "\n",
    "TIMES = np.arange(1, 93, 0.5)\n",
    "repeats_array = np.tile(TIMES, (len(test_data), 1))\n",
    "ovpr = model.predict_overall_survival(test_data, repeats_array, test_labels)\n",
    "\n",
    "# We can include the corresponding probabilities of cure in a legend\n",
    "cure_probs = [\n",
    "    np.around((model.predict_cure_proba(test_data, test_labels)[0:5, 0])[i], decimals=2)\n",
    "    for i in range(5)\n",
    "]\n"
   ]
  },
  {
   "cell_type": "code",
   "execution_count": 89,
   "metadata": {},
   "outputs": [
    {
     "data": {
      "image/png": "[encoded data removed]",
      "text/plain": [
       "<Figure size 432x288 with 1 Axes>"
      ]
     },
     "metadata": {
      "needs_background": "light"
     },
     "output_type": "display_data"
    }
   ],
   "source": [
    "import matplotlib.pyplot as plt\n",
    "\n",
    "y = ovpr[0:5, :]\n",
    "x = TIMES\n",
    "plt.plot(\n",
    "    x,\n",
    "    y.T,\n",
    ")\n",
    "plt.xlabel(\"Time\")\n",
    "plt.ylabel(\"Probability of Survival up to Time\")\n",
    "plt.legend(labels=cure_probs, loc=\"upper right\", title=\"Probability of Cure\")\n",
    "plt.show()\n"
   ]
  }
 ],
 "metadata": {
  "kernelspec": {
   "display_name": "Python 3 (ipykernel)",
   "language": "python",
   "name": "python3"
  },
  "language_info": {
   "codemirror_mode": {
    "name": "ipython",
    "version": 3
   },
   "file_extension": ".py",
   "mimetype": "text/x-python",
   "name": "python",
   "nbconvert_exporter": "python",
   "pygments_lexer": "ipython3",
   "version": "3.8.10"
  }
 },
 "nbformat": 4,
 "nbformat_minor": 2
}
