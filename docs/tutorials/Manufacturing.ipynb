{
 "cells": [
  {
   "cell_type": "markdown",
   "metadata": {},
   "source": [
    "# Manufacturing\n",
    "## Time to Failure Since Repair"
   ]
  },
  {
   "cell_type": "markdown",
   "metadata": {},
   "source": [
    "In manufacturing machine failure means less production, potentially unforeseen expenses, and consequently less revenue. Hence as a manufacturer we want to find ways to predict and reduce machine failure. This can be achieved by estimating *time to failure since repair*. \n",
    "\n",
    "Imagine a car. Throughout its lifetime it undergoes a series of repairs. Each time it undergoes a repair it becomes censored, and we restart the clock. At some point in this cycle the car may finally break (face the event). \n",
    "\n",
    "TIME = 0 ###### TIME = 75 CLUTCH CHANGE (BECOMES CENSORED)\\\n",
    "TIME = 0 ############ TIME = 150 TRANSMISSION CHANGE (BECOMES CENSORED)\\\n",
    "TIME = 0 #################### TIME = 200 MOTOR CHANGE (BECOMES CENSORED)\\\n",
    "TIME = 0 ########## TIME = 100 BEYOND REPAIR (EVENT REACHED)\n",
    "\n",
    "Some cars remain in driving condition for many years, and can for short term purposes be considered \"cured\". \n",
    "\n",
    "We can estimate time to failure since repair using apd-crs, incorporating the idea that some machines are resilient and don’t fail before they’re replaced.\n",
    "\n",
    "This scenario can be modeled as a cure rate survival (crs) analysis problem with the following characteristics:\n",
    "\n",
    " - <b>Event of interest</b>: The machine is beyond repair (machine failure)\n",
    " \n",
    " - <b>Time-to-event</b>: The time difference between the acquisition/repair of a machine and the machine failure\n",
    " \n",
    " - <b>Cured population</b>: Machines which never fail\n",
    " \n"
   ]
  },
  {
   "cell_type": "code",
   "execution_count": 1,
   "metadata": {},
   "outputs": [],
   "source": [
    "import warnings\n",
    "warnings.filterwarnings(\"ignore\")"
   ]
  },
  {
   "cell_type": "markdown",
   "metadata": {},
   "source": [
    "## Imports "
   ]
  },
  {
   "cell_type": "code",
   "execution_count": 2,
   "metadata": {},
   "outputs": [],
   "source": [
    "import pandas as pd\n",
    "import numpy as np\n",
    "from sklearn.preprocessing import StandardScaler\n",
    "from sksurv.preprocessing import OneHotEncoder\n",
    "from apd_crs.survival_analysis import SurvivalAnalysis\n",
    "from apd_crs.datasets import load_manufacturing\n",
    "from sklearn.preprocessing import StandardScaler\n",
    "from sklearn.model_selection import train_test_split\n",
    "import matplotlib.pyplot as plt"
   ]
  },
  {
   "cell_type": "markdown",
   "metadata": {},
   "source": [
    "## The Manufacturing Dataset\n",
    "\n",
    "For illustration we use the following [data set](https://square.github.io/pysurvival/tutorials/maintenance.html) from the PySurvival library . The data has the following characteristics: \n",
    "\n",
    "- A manufacturing plant may have several machines of a certain type. \n",
    "- Each machine instance can undergo many repairs over the course of its tenure. \n",
    "- This would lead to a multitude of censored observations for time since repair, with each specific machine likely contributing to several observations, since it may be repaired more than once during its tenure.\n",
    "- Each machine has associated covariates like pressure index, moisture index, the team working with it, etc.\n",
    "- After preprocessing the data, we would obtain a table like the one below."
   ]
  },
  {
   "cell_type": "code",
   "execution_count": 3,
   "metadata": {},
   "outputs": [
    {
     "name": "stdout",
     "output_type": "stream",
     "text": [
      "<class 'pandas.core.frame.DataFrame'>\n",
      "RangeIndex: 1000 entries, 0 to 999\n",
      "Data columns (total 5 columns):\n",
      " #   Column          Non-Null Count  Dtype  \n",
      "---  ------          --------------  -----  \n",
      " 0   pressureInd     1000 non-null   float64\n",
      " 1   moistureInd     1000 non-null   float64\n",
      " 2   temperatureInd  1000 non-null   float64\n",
      " 3   team            1000 non-null   object \n",
      " 4   provider        1000 non-null   object \n",
      "dtypes: float64(3), object(2)\n",
      "memory usage: 39.2+ KB\n"
     ]
    }
   ],
   "source": [
    "# loading the data\n",
    "dataset = load_manufacturing()\n",
    "data, labels, times = dataset.data, dataset.target, dataset.target_times\n",
    "dataset[\"data\"].info()"
   ]
  },
  {
   "cell_type": "markdown",
   "metadata": {},
   "source": [
    "The dataset contains 5 columns and 1000 rows. Some of the columns include numerical data while others include string data. Lets view a few top rows of the data to see what it looks like"
   ]
  },
  {
   "cell_type": "code",
   "execution_count": 4,
   "metadata": {},
   "outputs": [
    {
     "data": {
      "text/html": [
       "<div>\n",
       "<style scoped>\n",
       "    .dataframe tbody tr th:only-of-type {\n",
       "        vertical-align: middle;\n",
       "    }\n",
       "\n",
       "    .dataframe tbody tr th {\n",
       "        vertical-align: top;\n",
       "    }\n",
       "\n",
       "    .dataframe thead th {\n",
       "        text-align: right;\n",
       "    }\n",
       "</style>\n",
       "<table border=\"1\" class=\"dataframe\">\n",
       "  <thead>\n",
       "    <tr style=\"text-align: right;\">\n",
       "      <th></th>\n",
       "      <th>pressureInd</th>\n",
       "      <th>moistureInd</th>\n",
       "      <th>temperatureInd</th>\n",
       "      <th>team</th>\n",
       "      <th>provider</th>\n",
       "    </tr>\n",
       "  </thead>\n",
       "  <tbody>\n",
       "    <tr>\n",
       "      <th>0</th>\n",
       "      <td>92.178854</td>\n",
       "      <td>104.230204</td>\n",
       "      <td>96.517159</td>\n",
       "      <td>TeamA</td>\n",
       "      <td>Provider4</td>\n",
       "    </tr>\n",
       "    <tr>\n",
       "      <th>1</th>\n",
       "      <td>72.075938</td>\n",
       "      <td>103.065701</td>\n",
       "      <td>87.271062</td>\n",
       "      <td>TeamC</td>\n",
       "      <td>Provider4</td>\n",
       "    </tr>\n",
       "    <tr>\n",
       "      <th>2</th>\n",
       "      <td>96.272254</td>\n",
       "      <td>77.801376</td>\n",
       "      <td>112.196170</td>\n",
       "      <td>TeamA</td>\n",
       "      <td>Provider1</td>\n",
       "    </tr>\n",
       "    <tr>\n",
       "      <th>3</th>\n",
       "      <td>94.406461</td>\n",
       "      <td>108.493608</td>\n",
       "      <td>72.025374</td>\n",
       "      <td>TeamC</td>\n",
       "      <td>Provider2</td>\n",
       "    </tr>\n",
       "    <tr>\n",
       "      <th>4</th>\n",
       "      <td>97.752899</td>\n",
       "      <td>99.413492</td>\n",
       "      <td>103.756271</td>\n",
       "      <td>TeamB</td>\n",
       "      <td>Provider1</td>\n",
       "    </tr>\n",
       "  </tbody>\n",
       "</table>\n",
       "</div>"
      ],
      "text/plain": [
       "   pressureInd  moistureInd  temperatureInd   team   provider\n",
       "0    92.178854   104.230204       96.517159  TeamA  Provider4\n",
       "1    72.075938   103.065701       87.271062  TeamC  Provider4\n",
       "2    96.272254    77.801376      112.196170  TeamA  Provider1\n",
       "3    94.406461   108.493608       72.025374  TeamC  Provider2\n",
       "4    97.752899    99.413492      103.756271  TeamB  Provider1"
      ]
     },
     "execution_count": 4,
     "metadata": {},
     "output_type": "execute_result"
    }
   ],
   "source": [
    "dataset[\"data\"].head()"
   ]
  },
  {
   "cell_type": "markdown",
   "metadata": {},
   "source": [
    "## Using the SurvivalAnalysis Class\n",
    "The apd_crs module expects censored data to be marked using _censor_label_ and cured data to be marked using _cure_label_. These can be obtained with the get_censor_label and get_cure_label methods as follows"
   ]
  },
  {
   "cell_type": "code",
   "execution_count": 5,
   "metadata": {},
   "outputs": [],
   "source": [
    "# Instantiate the SurvivalAnalysis class and get labels\n",
    "model = SurvivalAnalysis()\n",
    "non_cure_label = model.get_non_cure_label()\n",
    "censor_label = model.get_censor_label()"
   ]
  },
  {
   "cell_type": "markdown",
   "metadata": {},
   "source": [
    "The load_manufacturing() method returns a dataset where the labels have been suitably preprocessed already. However, make sure to suitably convert the labels when applying SurvivalAnalysis on your datasets!"
   ]
  },
  {
   "cell_type": "code",
   "execution_count": 6,
   "metadata": {},
   "outputs": [],
   "source": [
    "# In the manufacturing dataset, label of 2 implies censored, and 1 implies non_cured\n",
    "labels = labels.replace({2: censor_label, 1: non_cure_label})"
   ]
  },
  {
   "cell_type": "markdown",
   "metadata": {},
   "source": [
    "## One-hot encoding\n",
    "\n",
    "Our data includes columns such as \"provider\" which could take the value of one of four providers. We obviously need to convert categorical values into numerical values before we can use them for our model. This is achieved through one-hot encoding. "
   ]
  },
  {
   "cell_type": "code",
   "execution_count": 7,
   "metadata": {},
   "outputs": [],
   "source": [
    "categorical_columns = [\"team\", \"provider\"]\n",
    "\n",
    "encoded_data = pd.get_dummies(data, columns=categorical_columns, \n",
    "                              prefix=categorical_columns)"
   ]
  },
  {
   "cell_type": "markdown",
   "metadata": {},
   "source": [
    "## Train test split\n",
    "\n",
    "We split the data into training and test sets. The model is fit on training data and evaluated on test data"
   ]
  },
  {
   "cell_type": "code",
   "execution_count": 8,
   "metadata": {},
   "outputs": [],
   "source": [
    "# Test train split: To evaluate test performance we split the data into training and testing data;\n",
    "# test_size is percentage going to test data\n",
    "test_size = 0.33\n",
    "(training_data, test_data, training_labels,\n",
    " test_labels, training_times, test_times) = train_test_split(encoded_data, \n",
    "                                                             labels, times, \n",
    "                                                             test_size=test_size)"
   ]
  },
  {
   "cell_type": "markdown",
   "metadata": {},
   "source": [
    "## Scaling\n",
    "To ensure that a certain feature does not dominate other features due to its numerical range, we scale all features so they lie within the same range"
   ]
  },
  {
   "cell_type": "code",
   "execution_count": 9,
   "metadata": {},
   "outputs": [],
   "source": [
    "# Scale covariates:\n",
    "scaler = StandardScaler()\n",
    "scaled_training_data = scaler.fit_transform(training_data)\n",
    "\n",
    "# Scale times:\n",
    "scaled_training_times = training_times / training_times.max()"
   ]
  },
  {
   "cell_type": "markdown",
   "metadata": {},
   "source": [
    "## Using the SurvivalAnalysis Class: Model Fitting"
   ]
  },
  {
   "cell_type": "code",
   "execution_count": 10,
   "metadata": {},
   "outputs": [
    {
     "data": {
      "text/plain": [
       "<apd_crs.survival_analysis.SurvivalAnalysis at 0x7fde02abe2b0>"
      ]
     },
     "execution_count": 10,
     "metadata": {},
     "output_type": "execute_result"
    }
   ],
   "source": [
    "# surv_reg_term controls regularization for the fitting of lifetime parameters\n",
    "\n",
    "model.survival_fit(scaled_training_data, training_labels, \n",
    "                   scaled_training_times, surv_reg_term=0.9)"
   ]
  },
  {
   "cell_type": "markdown",
   "metadata": {},
   "source": [
    "Before evaluating results, make sure to apply the same scaling that was applied to training data"
   ]
  },
  {
   "cell_type": "code",
   "execution_count": 11,
   "metadata": {},
   "outputs": [],
   "source": [
    "scaled_test_data = scaler.transform(test_data)\n",
    "scaled_test_times = test_times / training_times.max()"
   ]
  },
  {
   "cell_type": "markdown",
   "metadata": {},
   "source": [
    "## Evaluating Model Performance"
   ]
  },
  {
   "cell_type": "markdown",
   "metadata": {},
   "source": [
    "### Danger \n",
    "The Danger associated with an individual is a measure of the individual's risk of facing the event. It can take on any real number.\n",
    "\n",
    "The higher the Danger, the higher the risk associated with an individual. E.g. an individual with Danger -1.2 is less at risk than one with Danger 1.0.\n",
    "\n",
    "The danger can be calculated using the predict_danger method,\n",
    "\n",
    "\n",
    "\n",
    "\n",
    "\n",
    "### Concordance Index (C-Index)\n",
    "\n",
    "Two individuals are comparable if one experiences the event before the other. A pair of individuals is concordant if the one which \"died\" first has a higher danger. If our model is fit well, an individual for which we predict a higher danger is more likely to face the event of interest before another individual for which we predict a lower danger. This idea if formalized with the notion of c-index.\n",
    "\n",
    "C-Index = ratio of concordant pairs to comparable pairs. \n",
    "\n",
    "Clearly C-index is in $[0,1]$ and the higher the better. \n",
    "\n",
    "Random guessing $\\Rightarrow$ C-index = 0.5"
   ]
  },
  {
   "cell_type": "markdown",
   "metadata": {},
   "source": [
    "### Danger Calculation"
   ]
  },
  {
   "cell_type": "code",
   "execution_count": 12,
   "metadata": {},
   "outputs": [],
   "source": [
    "train_danger = model.predict_danger(scaled_training_data, training_labels)\n",
    "test_danger = model.predict_danger(scaled_test_data, test_labels)"
   ]
  },
  {
   "cell_type": "markdown",
   "metadata": {},
   "source": [
    "### C-Index Calculation"
   ]
  },
  {
   "cell_type": "code",
   "execution_count": 13,
   "metadata": {},
   "outputs": [
    {
     "name": "stdout",
     "output_type": "stream",
     "text": [
      "c-index score on train set is 0.7311267570344016\n",
      "c-index score on test set is 0.7338718480515227\n"
     ]
    }
   ],
   "source": [
    "train_score = model.cindex(scaled_training_times, training_labels, train_danger)\n",
    "test_score = model.cindex(scaled_test_times, test_labels, test_danger)\n",
    "print(f\"c-index score on train set is {train_score}\")\n",
    "print(f\"c-index score on test set is {test_score}\")"
   ]
  },
  {
   "cell_type": "markdown",
   "metadata": {},
   "source": [
    "## Overall Risk Factors\n",
    "The relative risk factors associated with every covariate in the dataset can be obtained using the get_risk_factors methood. Let us retrieve the top 10 factors in absolute value to get an idea of what they are"
   ]
  },
  {
   "cell_type": "code",
   "execution_count": 14,
   "metadata": {},
   "outputs": [
    {
     "data": {
      "text/plain": [
       "<AxesSubplot:>"
      ]
     },
     "execution_count": 14,
     "metadata": {},
     "output_type": "execute_result"
    },
    {
     "data": {
      "image/png": "[encoded data removed]",
      "text/plain": [
       "<Figure size 432x288 with 1 Axes>"
      ]
     },
     "metadata": {
      "needs_background": "light"
     },
     "output_type": "display_data"
    }
   ],
   "source": [
    "factors = model.get_risk_factors()\n",
    "n_factors = len(factors)\n",
    "risk_factors = pd.Series(\n",
    "    {encoded_data.columns[i]: factors[i] for i in range(n_factors)}\n",
    ")\n",
    "top_ten_factors_in_absvalue = risk_factors.abs().sort_values(ascending=False)[0:10]\n",
    "risk_factors.filter(top_ten_factors_in_absvalue.index).plot.bar()"
   ]
  },
  {
   "cell_type": "markdown",
   "metadata": {},
   "source": [
    "## Individual Predictions\n",
    "The probability of survival of any individual decreases with time. Let us plot the overall survival function for the first five individuals in the test set. Note that the times have been normalized to lie between 0 and 1. "
   ]
  },
  {
   "cell_type": "code",
   "execution_count": 15,
   "metadata": {},
   "outputs": [],
   "source": [
    "time_lower_bnd = 0.003\n",
    "time_upper_bnd = 0.00005\n",
    "times = np.arange(0, time_lower_bnd, time_upper_bnd)\n",
    "repeats_array = np.tile(times, (len(test_data), 1))\n",
    "ovpr = model.predict_overall_survival(scaled_test_data, repeats_array, test_labels)\n",
    "# We can include the corresponding probabilities of cure in a legend\n",
    "cure_probs = [np.around((model.predict_cure_proba(scaled_test_data, test_labels)[0:5, 0])[i], \n",
    "                        decimals=2) for i in range(5)]"
   ]
  },
  {
   "cell_type": "code",
   "execution_count": 16,
   "metadata": {},
   "outputs": [
    {
     "data": {
      "image/png": "[encoded data removed]",
      "text/plain": [
       "<Figure size 432x288 with 1 Axes>"
      ]
     },
     "metadata": {
      "needs_background": "light"
     },
     "output_type": "display_data"
    }
   ],
   "source": [
    "# We are viewing the overall survival function of the first five records in the test data, labelled with cure probability\n",
    "no_records = 5\n",
    "y = ovpr[0:no_records, :]\n",
    "x = times\n",
    "plt.plot(x, y.T)\n",
    "plt.xlim([0, time_lower_bnd])\n",
    "plt.xlabel(\"Time\")\n",
    "plt.ylabel(\"Probability of Survival up to time\")\n",
    "plt.legend(labels=cure_probs, loc=\"upper right\", title=\"Probability of Cure\")\n",
    "plt.show()"
   ]
  },
  {
   "cell_type": "code",
   "execution_count": null,
   "metadata": {},
   "outputs": [],
   "source": []
  }
 ],
 "metadata": {
  "kernelspec": {
   "display_name": "Python 3",
   "language": "python",
   "name": "python3"
  },
  "language_info": {
   "codemirror_mode": {
    "name": "ipython",
    "version": 3
   },
   "file_extension": ".py",
   "mimetype": "text/x-python",
   "name": "python",
   "nbconvert_exporter": "python",
   "pygments_lexer": "ipython3",
   "version": "3.8.10"
  }
 },
 "nbformat": 4,
 "nbformat_minor": 2
}
