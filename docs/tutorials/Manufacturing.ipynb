{
 "cells": [
  {
   "cell_type": "markdown",
   "metadata": {},
   "source": [
    "# Manufacturing\n",
    "## Time to failure since repair"
   ]
  },
  {
   "cell_type": "markdown",
   "metadata": {},
   "source": [
    "In manufacturing machine failure means less production, potentially unforeseen expenses, and consequently less revenue. Hence as a manufacturer we want to find ways to predict and reduce machine failure. This can be achieved by estimating *time to failure since repair*. \n",
    "\n",
    "Imagine a car. Throughout its lifetime it undergoes a series of repairs. Each time it undergoes a repair it becomes censored, and we restart the clock. At some point in this cycle the car may finally break (face the event). \n",
    "\n",
    "TIME = 0 ###### TIME = 75 CLUTCH CHANGE (BECOMES CENSORED)\\\n",
    "TIME = 0 ############ TIME = 150 TRANSMISSION CHANGE (BECOMES CENSORED)\\\n",
    "TIME = 0 #################### TIME = 200 MOTOR CHANGE (BECOMES CENSORED)\\\n",
    "TIME = 0 ########## TIME = 100 BEYOND REPAIR (EVENT REACHED)\n",
    "\n",
    "Some cars don't break after, e.g. 10 years, and you get a new one (they are \"cured\"). \n",
    "\n",
    "We can estimate time to failure since repair using apd-crs, incorporating the idea that some machines are resilient and don’t fail before they’re replaced.\n"
   ]
  },
  {
   "cell_type": "markdown",
   "metadata": {},
   "source": [
    "## The manufacturing dataset\n",
    "\n",
    "- For illustration we use the following data set borrowed from the PySurvival library. \n",
    "- A manufacturing plant may have several machines of a certain type. \n",
    "- Each machine instance can undergo many repairs over the course of its tenure. \n",
    "- This would lead to a multitude of censored observations for time since repair, with each specific machine likely contributing to several observations, since it may be repaired more than once during its tenure.\n",
    "- Each machine has associated covariates like pressure index, moisture index, the team working with it, etc.\n",
    "- After preprocessing the data, we would obtain a table like the one below.\n",
    "\n"
   ]
  },
  {
   "cell_type": "code",
   "execution_count": 7,
   "metadata": {},
   "outputs": [
    {
     "data": {
      "text/html": [
       "<div>\n",
       "<style scoped>\n",
       "    .dataframe tbody tr th:only-of-type {\n",
       "        vertical-align: middle;\n",
       "    }\n",
       "\n",
       "    .dataframe tbody tr th {\n",
       "        vertical-align: top;\n",
       "    }\n",
       "\n",
       "    .dataframe thead th {\n",
       "        text-align: right;\n",
       "    }\n",
       "</style>\n",
       "<table border=\"1\" class=\"dataframe\">\n",
       "  <thead>\n",
       "    <tr style=\"text-align: right;\">\n",
       "      <th></th>\n",
       "      <th>time_since_repair</th>\n",
       "      <th>broken</th>\n",
       "      <th>pressureInd</th>\n",
       "      <th>moistureInd</th>\n",
       "      <th>temperatureInd</th>\n",
       "      <th>team</th>\n",
       "      <th>provider</th>\n",
       "    </tr>\n",
       "  </thead>\n",
       "  <tbody>\n",
       "    <tr>\n",
       "      <th>0</th>\n",
       "      <td>56</td>\n",
       "      <td>0</td>\n",
       "      <td>92.178854</td>\n",
       "      <td>104.230204</td>\n",
       "      <td>96.517159</td>\n",
       "      <td>TeamA</td>\n",
       "      <td>Provider4</td>\n",
       "    </tr>\n",
       "    <tr>\n",
       "      <th>1</th>\n",
       "      <td>81</td>\n",
       "      <td>1</td>\n",
       "      <td>72.075938</td>\n",
       "      <td>103.065701</td>\n",
       "      <td>87.271062</td>\n",
       "      <td>TeamC</td>\n",
       "      <td>Provider4</td>\n",
       "    </tr>\n",
       "    <tr>\n",
       "      <th>2</th>\n",
       "      <td>60</td>\n",
       "      <td>0</td>\n",
       "      <td>96.272254</td>\n",
       "      <td>77.801376</td>\n",
       "      <td>112.196170</td>\n",
       "      <td>TeamA</td>\n",
       "      <td>Provider1</td>\n",
       "    </tr>\n",
       "    <tr>\n",
       "      <th>3</th>\n",
       "      <td>86</td>\n",
       "      <td>1</td>\n",
       "      <td>94.406461</td>\n",
       "      <td>108.493608</td>\n",
       "      <td>72.025374</td>\n",
       "      <td>TeamC</td>\n",
       "      <td>Provider2</td>\n",
       "    </tr>\n",
       "    <tr>\n",
       "      <th>4</th>\n",
       "      <td>34</td>\n",
       "      <td>0</td>\n",
       "      <td>97.752899</td>\n",
       "      <td>99.413492</td>\n",
       "      <td>103.756271</td>\n",
       "      <td>TeamB</td>\n",
       "      <td>Provider1</td>\n",
       "    </tr>\n",
       "    <tr>\n",
       "      <th>...</th>\n",
       "      <td>...</td>\n",
       "      <td>...</td>\n",
       "      <td>...</td>\n",
       "      <td>...</td>\n",
       "      <td>...</td>\n",
       "      <td>...</td>\n",
       "      <td>...</td>\n",
       "    </tr>\n",
       "    <tr>\n",
       "      <th>995</th>\n",
       "      <td>88</td>\n",
       "      <td>1</td>\n",
       "      <td>88.589759</td>\n",
       "      <td>112.167556</td>\n",
       "      <td>99.861456</td>\n",
       "      <td>TeamB</td>\n",
       "      <td>Provider4</td>\n",
       "    </tr>\n",
       "    <tr>\n",
       "      <th>996</th>\n",
       "      <td>88</td>\n",
       "      <td>1</td>\n",
       "      <td>116.727075</td>\n",
       "      <td>110.871332</td>\n",
       "      <td>95.075631</td>\n",
       "      <td>TeamA</td>\n",
       "      <td>Provider4</td>\n",
       "    </tr>\n",
       "    <tr>\n",
       "      <th>997</th>\n",
       "      <td>22</td>\n",
       "      <td>0</td>\n",
       "      <td>104.026778</td>\n",
       "      <td>88.212873</td>\n",
       "      <td>83.221220</td>\n",
       "      <td>TeamB</td>\n",
       "      <td>Provider1</td>\n",
       "    </tr>\n",
       "    <tr>\n",
       "      <th>998</th>\n",
       "      <td>78</td>\n",
       "      <td>0</td>\n",
       "      <td>104.911649</td>\n",
       "      <td>104.257296</td>\n",
       "      <td>83.421491</td>\n",
       "      <td>TeamA</td>\n",
       "      <td>Provider4</td>\n",
       "    </tr>\n",
       "    <tr>\n",
       "      <th>999</th>\n",
       "      <td>63</td>\n",
       "      <td>0</td>\n",
       "      <td>116.901354</td>\n",
       "      <td>99.998694</td>\n",
       "      <td>47.641493</td>\n",
       "      <td>TeamB</td>\n",
       "      <td>Provider1</td>\n",
       "    </tr>\n",
       "  </tbody>\n",
       "</table>\n",
       "<p>1000 rows × 7 columns</p>\n",
       "</div>"
      ],
      "text/plain": [
       "     time_since_repair  broken  pressureInd  moistureInd  temperatureInd  \\\n",
       "0                   56       0    92.178854   104.230204       96.517159   \n",
       "1                   81       1    72.075938   103.065701       87.271062   \n",
       "2                   60       0    96.272254    77.801376      112.196170   \n",
       "3                   86       1    94.406461   108.493608       72.025374   \n",
       "4                   34       0    97.752899    99.413492      103.756271   \n",
       "..                 ...     ...          ...          ...             ...   \n",
       "995                 88       1    88.589759   112.167556       99.861456   \n",
       "996                 88       1   116.727075   110.871332       95.075631   \n",
       "997                 22       0   104.026778    88.212873       83.221220   \n",
       "998                 78       0   104.911649   104.257296       83.421491   \n",
       "999                 63       0   116.901354    99.998694       47.641493   \n",
       "\n",
       "      team   provider  \n",
       "0    TeamA  Provider4  \n",
       "1    TeamC  Provider4  \n",
       "2    TeamA  Provider1  \n",
       "3    TeamC  Provider2  \n",
       "4    TeamB  Provider1  \n",
       "..     ...        ...  \n",
       "995  TeamB  Provider4  \n",
       "996  TeamA  Provider4  \n",
       "997  TeamB  Provider1  \n",
       "998  TeamA  Provider4  \n",
       "999  TeamB  Provider1  \n",
       "\n",
       "[1000 rows x 7 columns]"
      ]
     },
     "execution_count": 7,
     "metadata": {},
     "output_type": "execute_result"
    }
   ],
   "source": [
    "import pandas as pd \n",
    "import numpy as np\n",
    "\n",
    "url = 'https://raw.githubusercontent.com/square/pysurvival/master/pysurvival/datasets/maintenance.csv'\n",
    "data = pd.read_csv(url, sep=';')\n",
    "data.rename(columns={'lifetime': 'time_since_repair'}, inplace=True)\n",
    "data"
   ]
  },
  {
   "cell_type": "markdown",
   "metadata": {},
   "source": [
    "## Data Preprocessing\n"
   ]
  },
  {
   "cell_type": "code",
   "execution_count": 8,
   "metadata": {},
   "outputs": [],
   "source": [
    "#Relabl: 2=\"censored\" and 1=\"not cured\"\n",
    "\n",
    "def convert(row):\n",
    "    if row==0:\n",
    "        return 2\n",
    "    return 1\n",
    "\n",
    "data['broken'] = data['broken'].apply(lambda x:convert(x) ) "
   ]
  },
  {
   "cell_type": "code",
   "execution_count": 9,
   "metadata": {},
   "outputs": [],
   "source": [
    "#Convert object columns to categorical so we can us sksurv one-hot encoder\n",
    "for col in ['team', 'provider']:\n",
    "    data[col] = data[col].astype('category')"
   ]
  },
  {
   "cell_type": "code",
   "execution_count": 10,
   "metadata": {},
   "outputs": [],
   "source": [
    "#Test train split\n",
    "from sklearn.model_selection import train_test_split\n",
    "training_data, test_data, training_labels, test_labels, training_times, test_times = train_test_split(\n",
    "    data.drop(columns=['broken', 'time_since_repair']), data['broken'], data['time_since_repair'], test_size=0.33)"
   ]
  },
  {
   "cell_type": "code",
   "execution_count": 11,
   "metadata": {},
   "outputs": [],
   "source": [
    "#Perform one-hot encoding\n",
    "from sksurv.preprocessing import OneHotEncoder\n",
    "ohc = OneHotEncoder()\n",
    "training_data = ohc.fit_transform(training_data)\n",
    "test_data = ohc.transform(test_data)"
   ]
  },
  {
   "cell_type": "code",
   "execution_count": 12,
   "metadata": {},
   "outputs": [],
   "source": [
    "#Scale\n",
    "from sklearn.preprocessing import StandardScaler\n",
    "\n",
    "scaler = StandardScaler()\n",
    "training_data = scaler.fit_transform(training_data)\n",
    "test_data = scaler.transform(test_data)\n"
   ]
  },
  {
   "cell_type": "markdown",
   "metadata": {},
   "source": [
    "## Using the SurvivalAnalysis class"
   ]
  },
  {
   "cell_type": "code",
   "execution_count": 13,
   "metadata": {},
   "outputs": [],
   "source": [
    "#Instantiate the SurvivalAnalysis class\n",
    "from apd_crs.survival_analysis import SurvivalAnalysis"
   ]
  },
  {
   "cell_type": "code",
   "execution_count": 23,
   "metadata": {},
   "outputs": [
    {
     "data": {
      "text/plain": [
       "<apd_crs.survival_analysis.SurvivalAnalysis at 0x24e811a2430>"
      ]
     },
     "execution_count": 23,
     "metadata": {},
     "output_type": "execute_result"
    }
   ],
   "source": [
    "model = SurvivalAnalysis('clustering') #Use Kmeans clustering to assign cure\n",
    "#labels prior to fitting with logistic regression for cure probability\n",
    "model.survival_fit(training_data, training_labels, training_times, pu_kmeans_init=20)\n",
    "#pu_kmeans is number of Kmeans initializations to try "
   ]
  },
  {
   "cell_type": "markdown",
   "metadata": {},
   "source": [
    "## Evaluating Model Performance"
   ]
  },
  {
   "cell_type": "markdown",
   "metadata": {},
   "source": [
    "### Danger (aka Risk)\n",
    "\n",
    "The Hazard for susceptible (noncured) individuals is given by\n",
    "\n",
    "$h(t, x, \\gamma) = {\\mbox{Baseline Hazard}}(t)\\exp(\\gamma x)$ \n",
    "\n",
    "where \n",
    "\n",
    "$\\gamma, x = \\mbox{covariate weight vector}, \\mbox{covariate vector}.$\n",
    "\n",
    "This motivates us to define the danger associated with an individual having covariate vector $x$ as\n",
    "\n",
    "$\\mbox{Danger}(x) = w_1 (\\gamma\\cdot x )+ w_2 (1-\\pi(x))$ \n",
    "\n",
    "where $w_1, w_2\\in [0,1]$, $w_1+w_2=1$, and $\\pi(x)$ is the probability of cure. \n",
    "\n",
    "Optimal weights can be chosen through cross validation.\n",
    "\n",
    "### Concordance Index (C-Index)\n",
    "\n",
    "Two individuals are comparable if one experiences the event before the other. \n",
    "\n",
    "A pair of individuals is concordant if the one which \"died\" first has a higher danger.\n",
    "\n",
    "C-Index = ratio of concordant pairs to comparable pairs.\n",
    "\n",
    "Clearly C-index is in $[0,1]$ and the higher the better. \n",
    "\n",
    "Random guessing $\\Rightarrow$ C-index = 0.5"
   ]
  },
  {
   "cell_type": "code",
   "execution_count": 24,
   "metadata": {},
   "outputs": [],
   "source": [
    "train_danger =\\\n",
    "(np.dot(training_data, model.gamma_) +\\\n",
    " np.log(model.predict_cure_proba(training_data,training_labels)[:,1]))"
   ]
  },
  {
   "cell_type": "code",
   "execution_count": 25,
   "metadata": {},
   "outputs": [],
   "source": [
    "test_danger =\\\n",
    "(np.dot(test_data, model.gamma_) +\\\n",
    " np.log(model.predict_cure_proba(test_data, test_labels)[:,1]))"
   ]
  },
  {
   "cell_type": "code",
   "execution_count": 26,
   "metadata": {},
   "outputs": [
    {
     "data": {
      "text/plain": [
       "array([[1.        , 0.28038425],\n",
       "       [0.28038425, 1.        ]])"
      ]
     },
     "execution_count": 26,
     "metadata": {},
     "output_type": "execute_result"
    }
   ],
   "source": [
    "#We can check for correlation with the hazard for \n",
    "#the susceptibles (not cured) are probability of being susceptible\n",
    "noncure_probs = model.predict_cure_proba(training_data, training_labels)[:,1]\n",
    "hazard_riskfactor = np.dot(training_data, model.gamma_)\n",
    "np.corrcoef(noncure_probs, hazard_riskfactor)"
   ]
  },
  {
   "cell_type": "markdown",
   "metadata": {},
   "source": [
    "## Evaluating Model Performance"
   ]
  },
  {
   "cell_type": "markdown",
   "metadata": {},
   "source": [
    "### The C-Index"
   ]
  },
  {
   "cell_type": "code",
   "execution_count": 27,
   "metadata": {},
   "outputs": [
    {
     "name": "stdout",
     "output_type": "stream",
     "text": [
      "c-index score on train set is (0.8746103125775926, 31702, 4545, 0, 671)\n"
     ]
    }
   ],
   "source": [
    "train_score = model.cindex(training_times, training_labels, train_danger) \n",
    "\n",
    "print(f\"c-index score on train set is {train_score}\")"
   ]
  },
  {
   "cell_type": "code",
   "execution_count": 28,
   "metadata": {},
   "outputs": [
    {
     "name": "stdout",
     "output_type": "stream",
     "text": [
      "c-index score on test set is (0.8934760910988113, 9847, 1174, 0, 209)\n"
     ]
    }
   ],
   "source": [
    "test_score = model.cindex(test_times, test_labels, test_danger) \n",
    "\n",
    "print(f\"c-index score on test set is {test_score}\")"
   ]
  },
  {
   "cell_type": "markdown",
   "metadata": {},
   "source": [
    "### Overall Risk factors"
   ]
  },
  {
   "cell_type": "code",
   "execution_count": 29,
   "metadata": {},
   "outputs": [
    {
     "data": {
      "text/plain": [
       "<AxesSubplot:>"
      ]
     },
     "execution_count": 29,
     "metadata": {},
     "output_type": "execute_result"
    },
    {
     "data": {
      "image/png": "[encoded data removed]",
      "text/plain": [
       "<Figure size 432x288 with 1 Axes>"
      ]
     },
     "metadata": {
      "needs_background": "light"
     },
     "output_type": "display_data"
    }
   ],
   "source": [
    "features = [col for col in data.columns if col not in ['broken', 'time_since_repair']]\n",
    "feats = {col:model.gamma_[i] for (i,col) in enumerate(features)}\n",
    "feats = pd.Series(feats)\n",
    "feats.plot.bar()"
   ]
  },
  {
   "cell_type": "markdown",
   "metadata": {},
   "source": [
    "### Individual Predictions"
   ]
  },
  {
   "cell_type": "code",
   "execution_count": 30,
   "metadata": {},
   "outputs": [],
   "source": [
    "#Overall survivor function:\n",
    "\n",
    "#We can plot the overall survival function for e.g. the first five indiduals in the test set.\n",
    "\n",
    "TIMES = np.arange(1, 93, 0.5)\n",
    "repeats_array = np.tile(TIMES, (len(test_data), 1))\n",
    "ovpr = model.predict_overall_survival(test_data, repeats_array, test_labels)\n",
    "\n",
    "#We can include the corresponding probabilities of cure in a legend\n",
    "cure_probs =\\\n",
    "[np.around((model.predict_cure_proba(test_data, test_labels)[0:5,0])[i], decimals=2) for i in range(5)]"
   ]
  },
  {
   "cell_type": "code",
   "execution_count": 31,
   "metadata": {},
   "outputs": [
    {
     "data": {
      "image/png": "[encoded data removed]",
      "text/plain": [
       "<Figure size 432x288 with 1 Axes>"
      ]
     },
     "metadata": {
      "needs_background": "light"
     },
     "output_type": "display_data"
    }
   ],
   "source": [
    "import matplotlib.pyplot as plt\n",
    "y = ovpr[0:5,:]\n",
    "x = TIMES\n",
    "plt.plot(x, y.T, )\n",
    "plt.xlabel('Time')\n",
    "plt.ylabel('Probability of Survival up to Time')\n",
    "plt.legend(labels=cure_probs, loc='upper right', title='Probability of Cure')\n",
    "plt.show()"
   ]
  }
 ],
 "metadata": {
  "kernelspec": {
   "display_name": "Python 3",
   "language": "python",
   "name": "python3"
  },
  "language_info": {
   "codemirror_mode": {
    "name": "ipython",
    "version": 3
   },
   "file_extension": ".py",
   "mimetype": "text/x-python",
   "name": "python",
   "nbconvert_exporter": "python",
   "pygments_lexer": "ipython3",
   "version": "3.8.5"
  }
 },
 "nbformat": 4,
 "nbformat_minor": 2
}
