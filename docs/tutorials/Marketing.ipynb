{
 "cells": [
  {
   "cell_type": "markdown",
   "metadata": {},
   "source": [
    "## Marketing\n",
    "\n",
    "### Ad Click"
   ]
  },
  {
   "cell_type": "markdown",
   "metadata": {},
   "source": [
    "Ad clicks are a big source of revenue for many marketing businesses. PU learning means learning from positive and unlabeled data. Whether a user will click on an ad can be thought of as a problem in PU learning. I.e. if we advertise on a website and monitor activity, we will observe many users who do not click on the ad, but this doesn't mean they won't click on it at some unobserved time in the future. We think of the users who have clicked the ad during the observation period as our labeled set, and the ones who haven't as our unlabeled set, which consists of both people who never click on the ad as well as those who do at some unobserved time. \n",
    "\n",
    "In the language of our package we think of the labeled set as the non-censored individuals, the unlabeled set as the censored individuals, and the cured set as those individuals who never click on the ad. "
   ]
  },
  {
   "cell_type": "markdown",
   "metadata": {},
   "source": [
    "## Imports "
   ]
  },
  {
   "cell_type": "code",
   "execution_count": 174,
   "metadata": {},
   "outputs": [],
   "source": [
    "import pandas as pd\n",
    "import numpy as np\n",
    "from sklearn.preprocessing import StandardScaler\n",
    "from sksurv.preprocessing import OneHotEncoder\n",
    "from apd_crs.survival_analysis import SurvivalAnalysis\n",
    "from apd_crs.datasets import load_advertising\n",
    "from sklearn.model_selection import train_test_split\n",
    "import matplotlib.pyplot as plt"
   ]
  },
  {
   "cell_type": "markdown",
   "metadata": {},
   "source": [
    "## Using the SurvivalAnalysis Class: Get Labels"
   ]
  },
  {
   "cell_type": "code",
   "execution_count": 175,
   "metadata": {},
   "outputs": [],
   "source": [
    "# Instantiate the SurvivalAnalysis class and get labels\n",
    "model = SurvivalAnalysis()\n",
    "cure_label = model.get_cure_label()\n",
    "noncure_label = model.get_non_cure_label()\n",
    "censor_label = model.get_censor_label()"
   ]
  },
  {
   "cell_type": "markdown",
   "metadata": {},
   "source": [
    "## The Advertising Dataset\n",
    "\n",
    "For illustration we use the following data set borrowed from Kaggle.com https://www.kaggle.com/farhanmd29/predicting-customer-ad-clicks/data\n",
    "\n"
   ]
  },
  {
   "cell_type": "code",
   "execution_count": 176,
   "metadata": {},
   "outputs": [],
   "source": [
    "dataset = load_advertising()  # load the data\n"
   ]
  },
  {
   "cell_type": "code",
   "execution_count": 177,
   "metadata": {},
   "outputs": [],
   "source": [
    "data, labels, times = dataset.data, dataset.target, dataset.target_times\n",
    "# Load the covariates, labels (censored or not), and times\n"
   ]
  },
  {
   "cell_type": "markdown",
   "metadata": {},
   "source": [
    "## Data Preprocessing\n"
   ]
  },
  {
   "cell_type": "code",
   "execution_count": 178,
   "metadata": {},
   "outputs": [],
   "source": [
    "#Drop cities and Ad Topic Line, since there are too many distinct ones for only 1000 samples.\n",
    "\n",
    "data.drop(columns=['City', 'Ad Topic Line'], inplace=True)"
   ]
  },
  {
   "cell_type": "code",
   "execution_count": 179,
   "metadata": {},
   "outputs": [],
   "source": [
    "#Extract from Month, Day, Week, and Hour from the time stamp column, then drop it.\n",
    "\n",
    "data['Timestamp'] = pd.to_datetime(data['Timestamp'])\n",
    "data['Month'] = data['Timestamp'].dt.month\n",
    "data['Day of month'] = data['Timestamp'].dt.day\n",
    "data['Day of week'] = data['Timestamp'].dt.dayofweek\n",
    "data['Hour'] = data['Timestamp'].dt.hour  \n",
    "data.drop(columns=['Timestamp'], inplace=True)"
   ]
  },
  {
   "cell_type": "code",
   "execution_count": 180,
   "metadata": {},
   "outputs": [],
   "source": [
    "# Convert object columns to categorical so we can us sksurv one-hot encoder\n",
    "\n",
    "data['Country'] = data['Country'].astype(\"category\")"
   ]
  },
  {
   "cell_type": "code",
   "execution_count": 181,
   "metadata": {},
   "outputs": [],
   "source": [
    "# Test train split: To evaluate test performance we split the data into training and testing data;\n",
    "# test_size is percentage going to test data\n",
    "\n",
    "(\n",
    "    training_data,\n",
    "    test_data,\n",
    "    training_labels,\n",
    "    test_labels,\n",
    "    \n",
    ") = train_test_split(data, labels, test_size=0.33)"
   ]
  },
  {
   "cell_type": "code",
   "execution_count": 182,
   "metadata": {},
   "outputs": [],
   "source": [
    "# Perform one-hot encoding\n",
    "\n",
    "ohc = OneHotEncoder()\n",
    "training_data = ohc.fit_transform(training_data)\n",
    "test_data = ohc.transform(test_data)"
   ]
  },
  {
   "cell_type": "code",
   "execution_count": 183,
   "metadata": {},
   "outputs": [],
   "source": [
    "#Record features post one-hot encoding\n",
    "\n",
    "features = training_data.columns"
   ]
  },
  {
   "cell_type": "code",
   "execution_count": 184,
   "metadata": {},
   "outputs": [],
   "source": [
    "# Scale covariates: Baseline Hazard estimation is parametric so scaling helps with convergence\n",
    "\n",
    "scaler = StandardScaler()\n",
    "training_data = scaler.fit_transform(training_data)\n",
    "test_data = scaler.transform(test_data)"
   ]
  },
  {
   "cell_type": "markdown",
   "metadata": {},
   "source": [
    "## Using the SurvivalAnalysis Class: Model Fitting"
   ]
  },
  {
   "cell_type": "code",
   "execution_count": 185,
   "metadata": {},
   "outputs": [],
   "source": [
    "# Instantiate the SurvivalAnalysis class\n",
    "model = SurvivalAnalysis()"
   ]
  },
  {
   "cell_type": "code",
   "execution_count": 186,
   "metadata": {},
   "outputs": [
    {
     "data": {
      "text/plain": [
       "<apd_crs.survival_analysis.SurvivalAnalysis at 0x7fdbb87158e0>"
      ]
     },
     "execution_count": 186,
     "metadata": {},
     "output_type": "execute_result"
    }
   ],
   "source": [
    "\n",
    "model.pu_fit(training_data, training_labels, pu_reg_term=10., is_scar=True)\n",
    "\n",
    "#Since our data has many columns relative to the number of rows, we use a high regularization penalty"
   ]
  },
  {
   "cell_type": "markdown",
   "metadata": {},
   "source": [
    "## Overall Risk Factors"
   ]
  },
  {
   "cell_type": "code",
   "execution_count": 187,
   "metadata": {},
   "outputs": [
    {
     "data": {
      "text/plain": [
       "<AxesSubplot:>"
      ]
     },
     "execution_count": 187,
     "metadata": {},
     "output_type": "execute_result"
    },
    {
     "data": {
      "image/png": "[encoded data removed]",
      "text/plain": [
       "<Figure size 432x288 with 1 Axes>"
      ]
     },
     "metadata": {
      "needs_background": "light"
     },
     "output_type": "display_data"
    }
   ],
   "source": [
    "# By plotting the coefficients coming from the logistic regression fitted to estimate \n",
    "#cure probabilities, we can measure the overall covariate contributions. We look at the top ten:\n",
    "\n",
    "feats = {col: model.classifier_.coef_[0][i] for (i, col) in enumerate(features)}\n",
    "feats = pd.Series(feats)\n",
    "top_ten_feats = feats.sort_values(ascending=False)[0:10]\n",
    "top_ten_feats.plot.bar()"
   ]
  },
  {
   "cell_type": "markdown",
   "metadata": {},
   "source": [
    "## Visualizing the cured/not cured distribution in the test set"
   ]
  },
  {
   "cell_type": "code",
   "execution_count": 188,
   "metadata": {},
   "outputs": [],
   "source": [
    "cured_probas = \\\n",
    "model.predict_cure_proba(test_data, test_labels)[:,0][ model.predict_cure_proba(test_data, test_labels)[:,0]>0.5]\n",
    "notcured_probas = \\\n",
    "model.predict_cure_proba(test_data, test_labels)[:,0][ model.predict_cure_proba(test_data, test_labels)[:,0]<=0.5]\n"
   ]
  },
  {
   "cell_type": "code",
   "execution_count": 189,
   "metadata": {},
   "outputs": [
    {
     "data": {
      "image/png": "[encoded data removed]",
      "text/plain": [
       "<Figure size 432x288 with 1 Axes>"
      ]
     },
     "metadata": {
      "needs_background": "light"
     },
     "output_type": "display_data"
    }
   ],
   "source": [
    "#We plot the predicted cured (not cured) labels on y-axis and \n",
    "#the probability of not being cured on the x-axis.\n",
    "\n",
    "\n",
    "plt.xlabel('probability of not cured')\n",
    "plt.ylabel('predicted outcomes')\n",
    "\n",
    "plt.hist(notcured_probas, bins=12, label='not cured', color='blue', alpha=0.25)\n",
    "plt.hist(cured_probas, bins=12, label='cured', alpha=0.25)\n",
    "plt.legend(fontsize=15)\n",
    "\n",
    "plt.show()"
   ]
  }
 ],
 "metadata": {
  "kernelspec": {
   "display_name": "Python 3 (ipykernel)",
   "language": "python",
   "name": "python3"
  },
  "language_info": {
   "codemirror_mode": {
    "name": "ipython",
    "version": 3
   },
   "file_extension": ".py",
   "mimetype": "text/x-python",
   "name": "python",
   "nbconvert_exporter": "python",
   "pygments_lexer": "ipython3",
   "version": "3.8.10"
  }
 },
 "nbformat": 4,
 "nbformat_minor": 2
}
