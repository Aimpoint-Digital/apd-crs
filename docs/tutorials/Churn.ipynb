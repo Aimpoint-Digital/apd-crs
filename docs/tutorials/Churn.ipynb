{
 "cells": [
  {
   "cell_type": "markdown",
   "metadata": {},
   "source": [
    "# Churn Analytics\n",
    "## Time to churn"
   ]
  },
  {
   "cell_type": "markdown",
   "metadata": {},
   "source": [
    "A customer churns at the point they stop being a customer whether by withdrawing from the service, or no longer renewing their subscription/making payments. It's easier to retain existing customers than to acquire new ones. Hence, it is important to know which customers are likely to churn and when they might do so. Furthermore, a significant portion of customers are loyal and churn after such a long time (years), that for short term purposes they don’t churn. This is a cure rate survival analysis problem where the event is churning, the time to event is time since acquisition/renewal of subscription, and the cured proportion corresponds to those who never face the event and do not churn. \n"
   ]
  },
  {
   "cell_type": "markdown",
   "metadata": {},
   "source": [
    "## The churn dataset\n",
    "\n",
    "Below we apply apd-crs to the Telco dataset from Kaggle.com. To save time, we preprocessed it. \n",
    "\n"
   ]
  },
  {
   "cell_type": "code",
   "execution_count": 1,
   "metadata": {},
   "outputs": [],
   "source": [
    "import sys\n",
    "import os\n",
    "_ = os.getcwd()\n",
    "\n",
    "two_up =  os.path.abspath(os.path.join(_,\"../..\"))\n",
    "#data_path = os.path.abspath(os.path.join(_,\"../../../data\"))\n",
    "sys.path.append(two_up+'/src/apd_crs')"
   ]
  },
  {
   "cell_type": "code",
   "execution_count": 2,
   "metadata": {},
   "outputs": [
    {
     "data": {
      "text/plain": [
       "'/mnt/c/Users/Nem Kosovalic/Desktop/apd-crs/docs/tutorials'"
      ]
     },
     "execution_count": 2,
     "metadata": {},
     "output_type": "execute_result"
    }
   ],
   "source": [
    "pwd"
   ]
  },
  {
   "cell_type": "code",
   "execution_count": 73,
   "metadata": {},
   "outputs": [],
   "source": [
    "import pandas as pd \n",
    "import numpy as np\n",
    "data = pd.read_csv('telco_preprocessed_full.csv')"
   ]
  },
  {
   "cell_type": "code",
   "execution_count": 74,
   "metadata": {},
   "outputs": [
    {
     "data": {
      "text/html": [
       "<div>\n",
       "<style scoped>\n",
       "    .dataframe tbody tr th:only-of-type {\n",
       "        vertical-align: middle;\n",
       "    }\n",
       "\n",
       "    .dataframe tbody tr th {\n",
       "        vertical-align: top;\n",
       "    }\n",
       "\n",
       "    .dataframe thead th {\n",
       "        text-align: right;\n",
       "    }\n",
       "</style>\n",
       "<table border=\"1\" class=\"dataframe\">\n",
       "  <thead>\n",
       "    <tr style=\"text-align: right;\">\n",
       "      <th></th>\n",
       "      <th>customerID</th>\n",
       "      <th>Female</th>\n",
       "      <th>SeniorCitizen</th>\n",
       "      <th>Partner</th>\n",
       "      <th>Dependents</th>\n",
       "      <th>tenure</th>\n",
       "      <th>PhoneService</th>\n",
       "      <th>MultipleLines_Yes</th>\n",
       "      <th>InternetService_DSL</th>\n",
       "      <th>InternetService_Fiber optic</th>\n",
       "      <th>...</th>\n",
       "      <th>Contract_One year</th>\n",
       "      <th>Contract_Two year</th>\n",
       "      <th>PaperlessBilling_Yes</th>\n",
       "      <th>PaymentMethod_Electronic check</th>\n",
       "      <th>PaymentMethod_Mailed check</th>\n",
       "      <th>PaymentMethod_Bank transfer (automatic)</th>\n",
       "      <th>PaymentMethod_Credit card (automatic)</th>\n",
       "      <th>MonthlyCharges</th>\n",
       "      <th>TotalCharges</th>\n",
       "      <th>Churn</th>\n",
       "    </tr>\n",
       "  </thead>\n",
       "  <tbody>\n",
       "    <tr>\n",
       "      <th>0</th>\n",
       "      <td>7590-VHVEG</td>\n",
       "      <td>1.0</td>\n",
       "      <td>0</td>\n",
       "      <td>1.0</td>\n",
       "      <td>NaN</td>\n",
       "      <td>1</td>\n",
       "      <td>NaN</td>\n",
       "      <td>NaN</td>\n",
       "      <td>1.0</td>\n",
       "      <td>NaN</td>\n",
       "      <td>...</td>\n",
       "      <td>NaN</td>\n",
       "      <td>NaN</td>\n",
       "      <td>1.0</td>\n",
       "      <td>1.0</td>\n",
       "      <td>NaN</td>\n",
       "      <td>NaN</td>\n",
       "      <td>NaN</td>\n",
       "      <td>29.85</td>\n",
       "      <td>29.85</td>\n",
       "      <td>0</td>\n",
       "    </tr>\n",
       "    <tr>\n",
       "      <th>1</th>\n",
       "      <td>5575-GNVDE</td>\n",
       "      <td>NaN</td>\n",
       "      <td>0</td>\n",
       "      <td>NaN</td>\n",
       "      <td>NaN</td>\n",
       "      <td>34</td>\n",
       "      <td>1.0</td>\n",
       "      <td>NaN</td>\n",
       "      <td>1.0</td>\n",
       "      <td>NaN</td>\n",
       "      <td>...</td>\n",
       "      <td>1.0</td>\n",
       "      <td>NaN</td>\n",
       "      <td>NaN</td>\n",
       "      <td>NaN</td>\n",
       "      <td>1.0</td>\n",
       "      <td>NaN</td>\n",
       "      <td>NaN</td>\n",
       "      <td>56.95</td>\n",
       "      <td>1889.50</td>\n",
       "      <td>0</td>\n",
       "    </tr>\n",
       "    <tr>\n",
       "      <th>2</th>\n",
       "      <td>3668-QPYBK</td>\n",
       "      <td>NaN</td>\n",
       "      <td>0</td>\n",
       "      <td>NaN</td>\n",
       "      <td>NaN</td>\n",
       "      <td>2</td>\n",
       "      <td>1.0</td>\n",
       "      <td>NaN</td>\n",
       "      <td>1.0</td>\n",
       "      <td>NaN</td>\n",
       "      <td>...</td>\n",
       "      <td>NaN</td>\n",
       "      <td>NaN</td>\n",
       "      <td>1.0</td>\n",
       "      <td>NaN</td>\n",
       "      <td>1.0</td>\n",
       "      <td>NaN</td>\n",
       "      <td>NaN</td>\n",
       "      <td>53.85</td>\n",
       "      <td>108.15</td>\n",
       "      <td>1</td>\n",
       "    </tr>\n",
       "    <tr>\n",
       "      <th>3</th>\n",
       "      <td>7795-CFOCW</td>\n",
       "      <td>NaN</td>\n",
       "      <td>0</td>\n",
       "      <td>NaN</td>\n",
       "      <td>NaN</td>\n",
       "      <td>45</td>\n",
       "      <td>NaN</td>\n",
       "      <td>NaN</td>\n",
       "      <td>1.0</td>\n",
       "      <td>NaN</td>\n",
       "      <td>...</td>\n",
       "      <td>1.0</td>\n",
       "      <td>NaN</td>\n",
       "      <td>NaN</td>\n",
       "      <td>NaN</td>\n",
       "      <td>NaN</td>\n",
       "      <td>1.0</td>\n",
       "      <td>NaN</td>\n",
       "      <td>42.30</td>\n",
       "      <td>1840.75</td>\n",
       "      <td>0</td>\n",
       "    </tr>\n",
       "    <tr>\n",
       "      <th>4</th>\n",
       "      <td>9237-HQITU</td>\n",
       "      <td>1.0</td>\n",
       "      <td>0</td>\n",
       "      <td>NaN</td>\n",
       "      <td>NaN</td>\n",
       "      <td>2</td>\n",
       "      <td>1.0</td>\n",
       "      <td>NaN</td>\n",
       "      <td>NaN</td>\n",
       "      <td>1.0</td>\n",
       "      <td>...</td>\n",
       "      <td>NaN</td>\n",
       "      <td>NaN</td>\n",
       "      <td>1.0</td>\n",
       "      <td>1.0</td>\n",
       "      <td>NaN</td>\n",
       "      <td>NaN</td>\n",
       "      <td>NaN</td>\n",
       "      <td>70.70</td>\n",
       "      <td>151.65</td>\n",
       "      <td>1</td>\n",
       "    </tr>\n",
       "    <tr>\n",
       "      <th>...</th>\n",
       "      <td>...</td>\n",
       "      <td>...</td>\n",
       "      <td>...</td>\n",
       "      <td>...</td>\n",
       "      <td>...</td>\n",
       "      <td>...</td>\n",
       "      <td>...</td>\n",
       "      <td>...</td>\n",
       "      <td>...</td>\n",
       "      <td>...</td>\n",
       "      <td>...</td>\n",
       "      <td>...</td>\n",
       "      <td>...</td>\n",
       "      <td>...</td>\n",
       "      <td>...</td>\n",
       "      <td>...</td>\n",
       "      <td>...</td>\n",
       "      <td>...</td>\n",
       "      <td>...</td>\n",
       "      <td>...</td>\n",
       "      <td>...</td>\n",
       "    </tr>\n",
       "    <tr>\n",
       "      <th>7038</th>\n",
       "      <td>6840-RESVB</td>\n",
       "      <td>NaN</td>\n",
       "      <td>0</td>\n",
       "      <td>1.0</td>\n",
       "      <td>1.0</td>\n",
       "      <td>24</td>\n",
       "      <td>1.0</td>\n",
       "      <td>1.0</td>\n",
       "      <td>1.0</td>\n",
       "      <td>NaN</td>\n",
       "      <td>...</td>\n",
       "      <td>1.0</td>\n",
       "      <td>NaN</td>\n",
       "      <td>1.0</td>\n",
       "      <td>NaN</td>\n",
       "      <td>1.0</td>\n",
       "      <td>NaN</td>\n",
       "      <td>NaN</td>\n",
       "      <td>84.80</td>\n",
       "      <td>1990.50</td>\n",
       "      <td>0</td>\n",
       "    </tr>\n",
       "    <tr>\n",
       "      <th>7039</th>\n",
       "      <td>2234-XADUH</td>\n",
       "      <td>1.0</td>\n",
       "      <td>0</td>\n",
       "      <td>1.0</td>\n",
       "      <td>1.0</td>\n",
       "      <td>72</td>\n",
       "      <td>1.0</td>\n",
       "      <td>1.0</td>\n",
       "      <td>NaN</td>\n",
       "      <td>1.0</td>\n",
       "      <td>...</td>\n",
       "      <td>1.0</td>\n",
       "      <td>NaN</td>\n",
       "      <td>1.0</td>\n",
       "      <td>NaN</td>\n",
       "      <td>NaN</td>\n",
       "      <td>NaN</td>\n",
       "      <td>1.0</td>\n",
       "      <td>103.20</td>\n",
       "      <td>7362.90</td>\n",
       "      <td>0</td>\n",
       "    </tr>\n",
       "    <tr>\n",
       "      <th>7040</th>\n",
       "      <td>4801-JZAZL</td>\n",
       "      <td>1.0</td>\n",
       "      <td>0</td>\n",
       "      <td>1.0</td>\n",
       "      <td>1.0</td>\n",
       "      <td>11</td>\n",
       "      <td>NaN</td>\n",
       "      <td>NaN</td>\n",
       "      <td>1.0</td>\n",
       "      <td>NaN</td>\n",
       "      <td>...</td>\n",
       "      <td>NaN</td>\n",
       "      <td>NaN</td>\n",
       "      <td>1.0</td>\n",
       "      <td>1.0</td>\n",
       "      <td>NaN</td>\n",
       "      <td>NaN</td>\n",
       "      <td>NaN</td>\n",
       "      <td>29.60</td>\n",
       "      <td>346.45</td>\n",
       "      <td>0</td>\n",
       "    </tr>\n",
       "    <tr>\n",
       "      <th>7041</th>\n",
       "      <td>8361-LTMKD</td>\n",
       "      <td>NaN</td>\n",
       "      <td>1</td>\n",
       "      <td>1.0</td>\n",
       "      <td>NaN</td>\n",
       "      <td>4</td>\n",
       "      <td>1.0</td>\n",
       "      <td>1.0</td>\n",
       "      <td>NaN</td>\n",
       "      <td>1.0</td>\n",
       "      <td>...</td>\n",
       "      <td>NaN</td>\n",
       "      <td>NaN</td>\n",
       "      <td>1.0</td>\n",
       "      <td>NaN</td>\n",
       "      <td>1.0</td>\n",
       "      <td>NaN</td>\n",
       "      <td>NaN</td>\n",
       "      <td>74.40</td>\n",
       "      <td>306.60</td>\n",
       "      <td>1</td>\n",
       "    </tr>\n",
       "    <tr>\n",
       "      <th>7042</th>\n",
       "      <td>3186-AJIEK</td>\n",
       "      <td>NaN</td>\n",
       "      <td>0</td>\n",
       "      <td>NaN</td>\n",
       "      <td>NaN</td>\n",
       "      <td>66</td>\n",
       "      <td>1.0</td>\n",
       "      <td>NaN</td>\n",
       "      <td>NaN</td>\n",
       "      <td>1.0</td>\n",
       "      <td>...</td>\n",
       "      <td>NaN</td>\n",
       "      <td>1.0</td>\n",
       "      <td>1.0</td>\n",
       "      <td>NaN</td>\n",
       "      <td>NaN</td>\n",
       "      <td>1.0</td>\n",
       "      <td>NaN</td>\n",
       "      <td>105.65</td>\n",
       "      <td>6844.50</td>\n",
       "      <td>0</td>\n",
       "    </tr>\n",
       "  </tbody>\n",
       "</table>\n",
       "<p>7043 rows × 27 columns</p>\n",
       "</div>"
      ],
      "text/plain": [
       "      customerID  Female  SeniorCitizen  Partner  Dependents  tenure  \\\n",
       "0     7590-VHVEG     1.0              0      1.0         NaN       1   \n",
       "1     5575-GNVDE     NaN              0      NaN         NaN      34   \n",
       "2     3668-QPYBK     NaN              0      NaN         NaN       2   \n",
       "3     7795-CFOCW     NaN              0      NaN         NaN      45   \n",
       "4     9237-HQITU     1.0              0      NaN         NaN       2   \n",
       "...          ...     ...            ...      ...         ...     ...   \n",
       "7038  6840-RESVB     NaN              0      1.0         1.0      24   \n",
       "7039  2234-XADUH     1.0              0      1.0         1.0      72   \n",
       "7040  4801-JZAZL     1.0              0      1.0         1.0      11   \n",
       "7041  8361-LTMKD     NaN              1      1.0         NaN       4   \n",
       "7042  3186-AJIEK     NaN              0      NaN         NaN      66   \n",
       "\n",
       "      PhoneService  MultipleLines_Yes  InternetService_DSL  \\\n",
       "0              NaN                NaN                  1.0   \n",
       "1              1.0                NaN                  1.0   \n",
       "2              1.0                NaN                  1.0   \n",
       "3              NaN                NaN                  1.0   \n",
       "4              1.0                NaN                  NaN   \n",
       "...            ...                ...                  ...   \n",
       "7038           1.0                1.0                  1.0   \n",
       "7039           1.0                1.0                  NaN   \n",
       "7040           NaN                NaN                  1.0   \n",
       "7041           1.0                1.0                  NaN   \n",
       "7042           1.0                NaN                  NaN   \n",
       "\n",
       "      InternetService_Fiber optic  ...  Contract_One year  Contract_Two year  \\\n",
       "0                             NaN  ...                NaN                NaN   \n",
       "1                             NaN  ...                1.0                NaN   \n",
       "2                             NaN  ...                NaN                NaN   \n",
       "3                             NaN  ...                1.0                NaN   \n",
       "4                             1.0  ...                NaN                NaN   \n",
       "...                           ...  ...                ...                ...   \n",
       "7038                          NaN  ...                1.0                NaN   \n",
       "7039                          1.0  ...                1.0                NaN   \n",
       "7040                          NaN  ...                NaN                NaN   \n",
       "7041                          1.0  ...                NaN                NaN   \n",
       "7042                          1.0  ...                NaN                1.0   \n",
       "\n",
       "      PaperlessBilling_Yes  PaymentMethod_Electronic check  \\\n",
       "0                      1.0                             1.0   \n",
       "1                      NaN                             NaN   \n",
       "2                      1.0                             NaN   \n",
       "3                      NaN                             NaN   \n",
       "4                      1.0                             1.0   \n",
       "...                    ...                             ...   \n",
       "7038                   1.0                             NaN   \n",
       "7039                   1.0                             NaN   \n",
       "7040                   1.0                             1.0   \n",
       "7041                   1.0                             NaN   \n",
       "7042                   1.0                             NaN   \n",
       "\n",
       "      PaymentMethod_Mailed check  PaymentMethod_Bank transfer (automatic)  \\\n",
       "0                            NaN                                      NaN   \n",
       "1                            1.0                                      NaN   \n",
       "2                            1.0                                      NaN   \n",
       "3                            NaN                                      1.0   \n",
       "4                            NaN                                      NaN   \n",
       "...                          ...                                      ...   \n",
       "7038                         1.0                                      NaN   \n",
       "7039                         NaN                                      NaN   \n",
       "7040                         NaN                                      NaN   \n",
       "7041                         1.0                                      NaN   \n",
       "7042                         NaN                                      1.0   \n",
       "\n",
       "      PaymentMethod_Credit card (automatic)  MonthlyCharges  TotalCharges  \\\n",
       "0                                       NaN           29.85         29.85   \n",
       "1                                       NaN           56.95       1889.50   \n",
       "2                                       NaN           53.85        108.15   \n",
       "3                                       NaN           42.30       1840.75   \n",
       "4                                       NaN           70.70        151.65   \n",
       "...                                     ...             ...           ...   \n",
       "7038                                    NaN           84.80       1990.50   \n",
       "7039                                    1.0          103.20       7362.90   \n",
       "7040                                    NaN           29.60        346.45   \n",
       "7041                                    NaN           74.40        306.60   \n",
       "7042                                    NaN          105.65       6844.50   \n",
       "\n",
       "      Churn  \n",
       "0         0  \n",
       "1         0  \n",
       "2         1  \n",
       "3         0  \n",
       "4         1  \n",
       "...     ...  \n",
       "7038      0  \n",
       "7039      0  \n",
       "7040      0  \n",
       "7041      1  \n",
       "7042      0  \n",
       "\n",
       "[7043 rows x 27 columns]"
      ]
     },
     "execution_count": 74,
     "metadata": {},
     "output_type": "execute_result"
    }
   ],
   "source": [
    "data"
   ]
  },
  {
   "cell_type": "markdown",
   "metadata": {},
   "source": [
    "## Data Preprocessing\n"
   ]
  },
  {
   "cell_type": "code",
   "execution_count": 75,
   "metadata": {},
   "outputs": [],
   "source": [
    "#Data Prep\n",
    "data = data.drop(columns=[\"customerID\"])\n",
    "data = data.fillna(0)\n",
    "data[\"tenure\"] = data[\"tenure\"] / 12\n"
   ]
  },
  {
   "cell_type": "code",
   "execution_count": 76,
   "metadata": {},
   "outputs": [],
   "source": [
    "#Relabl: 2=\"censored\" and 1=\"not cured\"\n",
    "\n",
    "def convert(row):\n",
    "    if row==0:\n",
    "        return 2\n",
    "    return 1\n",
    "\n",
    "data['Churn'] = data['Churn'].apply(lambda x:convert(x) ) "
   ]
  },
  {
   "cell_type": "code",
   "execution_count": 77,
   "metadata": {},
   "outputs": [],
   "source": [
    "#Test train split\n",
    "from sklearn.model_selection import train_test_split\n",
    "training_data, test_data, training_labels, test_labels, training_times, test_times = train_test_split(\n",
    "    data.drop(columns=['Churn', 'tenure']), data['Churn'], data['tenure'], test_size=0.33)\n"
   ]
  },
  {
   "cell_type": "code",
   "execution_count": 78,
   "metadata": {},
   "outputs": [],
   "source": [
    "#Scale\n",
    "from sklearn.preprocessing import StandardScaler\n",
    "\n",
    "scaler = StandardScaler()\n",
    "training_data = scaler.fit_transform(training_data)\n",
    "test_data = scaler.transform(test_data)\n"
   ]
  },
  {
   "cell_type": "markdown",
   "metadata": {},
   "source": [
    "## Using the SurvivalAnalysis class"
   ]
  },
  {
   "cell_type": "code",
   "execution_count": 79,
   "metadata": {},
   "outputs": [],
   "source": [
    "#Instantiate the SurvivalAnalysis class\n",
    "from survival_analysis import SurvivalAnalysis"
   ]
  },
  {
   "cell_type": "code",
   "execution_count": 80,
   "metadata": {},
   "outputs": [
    {
     "name": "stderr",
     "output_type": "stream",
     "text": [
      "/home/nemk/.local/lib/python3.8/site-packages/apd_crs/_validate.py:121: UserWarning: Obtained censoring/cure times in training data that are close to zero. These values will be dropped from training set\n",
      "  warnings.warn(\"Obtained censoring/cure times in training data that \"\n",
      "/home/nemk/.local/lib/python3.8/site-packages/apd_crs/_survival_func.py:303: RuntimeWarning: Training data should be scaled appropriately to ensure numerical convergence\n",
      "  warnings.warn(\"Training data should be scaled appropriately to ensure numerical \"\n",
      "/home/nemk/.local/lib/python3.8/site-packages/autograd/tracer.py:48: RuntimeWarning: invalid value encountered in sqrt\n",
      "  return f_raw(*args, **kwargs)\n"
     ]
    },
    {
     "data": {
      "text/plain": [
       "<survival_analysis.SurvivalAnalysis at 0x7f3eb76e1160>"
      ]
     },
     "execution_count": 80,
     "metadata": {},
     "output_type": "execute_result"
    }
   ],
   "source": [
    "model = SurvivalAnalysis()\n",
    "model.pu_fit_rs(training_data, training_labels, max_guesses=100000)\n",
    "model.survival_fit(training_data, training_labels, training_times)\n"
   ]
  },
  {
   "cell_type": "markdown",
   "metadata": {},
   "source": [
    "## Evaluation metrics"
   ]
  },
  {
   "cell_type": "markdown",
   "metadata": {},
   "source": [
    "\n",
    "\n",
    "### Danger (aka Risk)\n",
    "\n",
    "The Hazard for susceptible (noncured) individuals is given by\n",
    "\n",
    "$h(t, x, \\gamma) = {\\mbox{Baseline Hazard}}(t)\\exp(\\gamma x)$ \n",
    "\n",
    "where \n",
    "\n",
    "$\\gamma, x = \\mbox{covariate weight vector}, \\mbox{covariate vector}.$\n",
    "\n",
    "This motivates us to define the danger associated with an individual having covariate vector $x$ as\n",
    "\n",
    "$\\mbox{Danger}(x) = w_1 (\\gamma\\cdot x )+ w_2 (1-\\pi(x))$ \n",
    "\n",
    "where $w_1, w_2\\in [0,1]$, $w_1+w_2=1$, and $\\pi(x)$ is the probability of cure. \n",
    "\n",
    "Optimal weights can be chosen through cross validation.\n",
    "\n",
    "### Concordance Index (C-Index)\n",
    "\n",
    "Two individuals are comparable if one experiences the event before the other. \n",
    "\n",
    "A pair of individuals is concordant if the one which \"died\" first has a higher danger.\n",
    "\n",
    "C-Index = ratio of concordant pairs to comparable pairs.\n",
    "\n",
    "Clearly C-index is in $[0,1]$ and the higher the better. \n",
    "\n",
    "Random guessing $\\Rightarrow$ C-index = 0.5"
   ]
  },
  {
   "cell_type": "code",
   "execution_count": 81,
   "metadata": {},
   "outputs": [],
   "source": [
    "train_danger = (np.dot(training_data, model.gamma_) + np.log(model.predict_cure_proba(training_data,training_labels)[:,1]))"
   ]
  },
  {
   "cell_type": "code",
   "execution_count": 82,
   "metadata": {},
   "outputs": [],
   "source": [
    "test_danger = (np.dot(test_data, model.gamma_) + np.log(model.predict_cure_proba(test_data, test_labels)[:,1]))"
   ]
  },
  {
   "cell_type": "code",
   "execution_count": 83,
   "metadata": {},
   "outputs": [
    {
     "data": {
      "text/plain": [
       "array([[1.        , 0.65472373],\n",
       "       [0.65472373, 1.        ]])"
      ]
     },
     "execution_count": 83,
     "metadata": {},
     "output_type": "execute_result"
    }
   ],
   "source": [
    "#We can check for correlation with the hazard for the susceptibles (not cured) are probability of being susceptible\n",
    "np.corrcoef(model.predict_cure_proba(training_data, training_labels)[:,1], np.dot(training_data, model.gamma_))"
   ]
  },
  {
   "cell_type": "markdown",
   "metadata": {},
   "source": [
    "## Evaluating Model Performance"
   ]
  },
  {
   "cell_type": "markdown",
   "metadata": {},
   "source": [
    "### The C-Index"
   ]
  },
  {
   "cell_type": "code",
   "execution_count": 92,
   "metadata": {},
   "outputs": [
    {
     "name": "stdout",
     "output_type": "stream",
     "text": [
      "c-index score on train set is (0.8125286695827492, 3280481, 756887, 12, 94180)\n"
     ]
    }
   ],
   "source": [
    "train_score = model.cindex(training_times, training_labels, train_danger) #Uses exp(gamma x) as risk\n",
    "\n",
    "print(f\"c-index score on train set is {train_score}\")"
   ]
  },
  {
   "cell_type": "code",
   "execution_count": 93,
   "metadata": {},
   "outputs": [
    {
     "name": "stdout",
     "output_type": "stream",
     "text": [
      "c-index score on test set is (0.8128951556439341, 769760, 177176, 1, 19670)\n"
     ]
    }
   ],
   "source": [
    "test_score = model.cindex(test_times, test_labels, test_danger) #Uses exp(gamma x) as risk\n",
    "\n",
    "print(f\"c-index score on test set is {test_score}\")"
   ]
  },
  {
   "cell_type": "markdown",
   "metadata": {},
   "source": [
    "### Overall Risk factors"
   ]
  },
  {
   "cell_type": "code",
   "execution_count": 88,
   "metadata": {},
   "outputs": [
    {
     "data": {
      "text/plain": [
       "<AxesSubplot:>"
      ]
     },
     "execution_count": 88,
     "metadata": {},
     "output_type": "execute_result"
    },
    {
     "data": {
      "image/png": "[encoded data removed]",
      "text/plain": [
       "<Figure size 432x288 with 1 Axes>"
      ]
     },
     "metadata": {
      "needs_background": "light"
     },
     "output_type": "display_data"
    }
   ],
   "source": [
    "features = [col for col in data.columns if col not in ['Churn', 'tenure']]\n",
    "feats = {col:model.gamma_[i] for (i,col) in enumerate(features)}\n",
    "feats = pd.Series(feats)\n",
    "feats.plot.bar()"
   ]
  },
  {
   "cell_type": "markdown",
   "metadata": {},
   "source": [
    "### Individual Predictions"
   ]
  },
  {
   "cell_type": "code",
   "execution_count": 90,
   "metadata": {},
   "outputs": [],
   "source": [
    "#Overall survivor function:\n",
    "\n",
    "#We can plot the overall survival function for e.g. the first five indiduals in the test set.\n",
    "\n",
    "TIMES = np.arange(1, 93, 0.05)\n",
    "repeats_array = np.tile(TIMES, (len(test_data), 1))\n",
    "ovpr = model.predict_overall_survival(test_data, repeats_array, test_labels)"
   ]
  },
  {
   "cell_type": "code",
   "execution_count": 91,
   "metadata": {},
   "outputs": [
    {
     "data": {
      "image/png": "[encoded data removed]",
      "text/plain": [
       "<Figure size 432x288 with 1 Axes>"
      ]
     },
     "metadata": {
      "needs_background": "light"
     },
     "output_type": "display_data"
    }
   ],
   "source": [
    "import matplotlib.pyplot as plt\n",
    "y = ovpr[0:5,:]\n",
    "x = TIMES\n",
    "plt.plot(x, y.T, )\n",
    "plt.xlabel('Time')\n",
    "plt.ylabel('Probability of Survival up to Time')\n",
    "plt.show()"
   ]
  },
  {
   "cell_type": "code",
   "execution_count": 18,
   "metadata": {},
   "outputs": [
    {
     "name": "stdout",
     "output_type": "stream",
     "text": [
      "The cure probability of individual 0 is: 0.6306985335465067\n",
      "The cure probability of individual 1 is: 0.9351001991992633\n",
      "The cure probability of individual 2 is: 0.4210536941745374\n",
      "The cure probability of individual 3 is: 0.5134855344882093\n",
      "The cure probability of individual 4 is: 0.605773010511532\n"
     ]
    }
   ],
   "source": [
    "#Corresponding probabilities of cure:\n",
    "\n",
    "for i in range(5):\n",
    "   print(f'The cure probability of individual {i} is: {(model.predict_cure_proba(test_data, test_labels)[0:5,0])[i]}')"
   ]
  }
 ],
 "metadata": {
  "kernelspec": {
   "display_name": "Python 3 (ipykernel)",
   "language": "python",
   "name": "python3"
  },
  "language_info": {
   "codemirror_mode": {
    "name": "ipython",
    "version": 3
   },
   "file_extension": ".py",
   "mimetype": "text/x-python",
   "name": "python",
   "nbconvert_exporter": "python",
   "pygments_lexer": "ipython3",
   "version": "3.8.10"
  }
 },
 "nbformat": 4,
 "nbformat_minor": 2
}
